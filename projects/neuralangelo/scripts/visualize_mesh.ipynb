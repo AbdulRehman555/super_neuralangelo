{
 "cells": [
  {
   "cell_type": "code",
   "execution_count": 1,
   "id": "8b8d7b17-af50-42cd-b531-ef61c49c9e61",
   "metadata": {
    "tags": []
   },
   "outputs": [
    {
     "name": "stdout",
     "output_type": "stream",
     "text": [
      "Root Directory Path: /home/ec2-user/SageMaker/efs/nauyan/phase2/neuralangelo\n"
     ]
    }
   ],
   "source": [
    "# Set the work directory to the imaginaire root.\n",
    "import os, sys, time\n",
    "import pathlib\n",
    "root_dir = pathlib.Path().absolute().parents[2]\n",
    "os.chdir(root_dir)\n",
    "print(f\"Root Directory Path: {root_dir}\")"
   ]
  },
  {
   "cell_type": "code",
   "execution_count": 2,
   "id": "2b5b9e2f-841c-4815-92e0-0c76ed46da62",
   "metadata": {
    "tags": []
   },
   "outputs": [
    {
     "ename": "ModuleNotFoundError",
     "evalue": "No module named 'trimesh'",
     "output_type": "error",
     "traceback": [
      "\u001b[0;31m---------------------------------------------------------------------------\u001b[0m",
      "\u001b[0;31mModuleNotFoundError\u001b[0m                       Traceback (most recent call last)",
      "Cell \u001b[0;32mIn[2], line 3\u001b[0m\n\u001b[1;32m      1\u001b[0m \u001b[38;5;66;03m# Import Python libraries.\u001b[39;00m\n\u001b[1;32m      2\u001b[0m \u001b[38;5;28;01mimport\u001b[39;00m \u001b[38;5;21;01mnumpy\u001b[39;00m \u001b[38;5;28;01mas\u001b[39;00m \u001b[38;5;21;01mnp\u001b[39;00m\n\u001b[0;32m----> 3\u001b[0m \u001b[38;5;28;01mimport\u001b[39;00m \u001b[38;5;21;01mtrimesh\u001b[39;00m\n\u001b[1;32m      4\u001b[0m \u001b[38;5;28;01mimport\u001b[39;00m \u001b[38;5;21;01mk3d\u001b[39;00m\n",
      "\u001b[0;31mModuleNotFoundError\u001b[0m: No module named 'trimesh'"
     ]
    }
   ],
   "source": [
    "# Import Python libraries.\n",
    "import numpy as np\n",
    "import trimesh\n",
    "import k3d"
   ]
  },
  {
   "cell_type": "code",
   "execution_count": null,
   "id": "84604c4a-8d95-462a-b7f0-acaa0b9f563d",
   "metadata": {},
   "outputs": [],
   "source": [
    "# Load the 3D mesh.\n",
    "ply_fname = \"logs/Bamboo_group/Bamboo/Bamboo_mesh.ply\"\n",
    "mesh = trimesh.load(ply_fname)\n",
    "print(f\"# vertices: {len(mesh.vertices)}\")\n",
    "print(f\"# faces: {len(mesh.faces)}\")"
   ]
  },
  {
   "cell_type": "code",
   "execution_count": null,
   "id": "d1f8df0b-8361-40f3-a801-0cc42b920fed",
   "metadata": {},
   "outputs": [],
   "source": [
    "# Visualize with K3D.\n",
    "plot = k3d.plot(name=\"mesh\", height=800, camera_rotate_speed=5.0, camera_zoom_speed=3.0, camera_pan_speed=1.0)\n",
    "C = mesh.visual.vertex_colors\n",
    "colors = C[:,0]*256**2 + C[:,1]*256 + C[:,2]\n",
    "plot += k3d.mesh(mesh.vertices, mesh.faces, colors=colors, side=\"double\", opacity=1)\n",
    "plot.display()\n",
    "plot.camera_fov = 30.0"
   ]
  }
 ],
 "metadata": {
  "kernelspec": {
   "display_name": "conda_tensorflow2_p310",
   "language": "python",
   "name": "conda_tensorflow2_p310"
  },
  "language_info": {
   "codemirror_mode": {
    "name": "ipython",
    "version": 3
   },
   "file_extension": ".py",
   "mimetype": "text/x-python",
   "name": "python",
   "nbconvert_exporter": "python",
   "pygments_lexer": "ipython3",
   "version": "3.10.12"
  }
 },
 "nbformat": 4,
 "nbformat_minor": 5
}
